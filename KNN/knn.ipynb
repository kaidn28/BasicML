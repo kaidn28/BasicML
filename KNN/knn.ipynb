{
  "nbformat": 4,
  "nbformat_minor": 0,
  "metadata": {
    "colab": {
      "name": "Untitled7.ipynb",
      "provenance": []
    },
    "kernelspec": {
      "name": "python3",
      "display_name": "Python 3"
    }
  },
  "cells": [
    {
      "cell_type": "code",
      "metadata": {
        "id": "lH7tjfO5Igj_"
      },
      "source": [
        "import numpy as np\r\n",
        "from sklearn import datasets\r\n",
        "from sklearn.model_selection import train_test_split\r\n",
        "from sklearn.metrics import accuracy_score"
      ],
      "execution_count": 60,
      "outputs": []
    },
    {
      "cell_type": "code",
      "metadata": {
        "id": "vsGBI-dcIqku"
      },
      "source": [
        "data_label = datasets.load_iris()\r\n",
        "#print(data_label.keys())"
      ],
      "execution_count": 61,
      "outputs": []
    },
    {
      "cell_type": "code",
      "metadata": {
        "id": "wFUBKyiNK3QA"
      },
      "source": [
        "data = data_label.data\r\n",
        "labels = data_label.target"
      ],
      "execution_count": 62,
      "outputs": []
    },
    {
      "cell_type": "code",
      "metadata": {
        "id": "YSCDhUDTNl4w"
      },
      "source": [
        "X_train, X_test,y_train, y_test = train_test_split(data, labels, random_state = 42, test_size=0.33)"
      ],
      "execution_count": 63,
      "outputs": []
    },
    {
      "cell_type": "code",
      "metadata": {
        "id": "DZUHmZryN6fN"
      },
      "source": [
        "#print(X_train)\r\n",
        "#print(y_test)"
      ],
      "execution_count": 64,
      "outputs": []
    },
    {
      "cell_type": "code",
      "metadata": {
        "id": "n-0-xReoOBLc"
      },
      "source": [
        "def distance(x1,x2):\r\n",
        "  sum = 0\r\n",
        "  for i in range(len(x1)):\r\n",
        "    sum+= (x1[i]-x2[i])*(x1[i]-x2[i])\r\n",
        "  return np.sqrt(sum)\r\n"
      ],
      "execution_count": 79,
      "outputs": []
    },
    {
      "cell_type": "code",
      "metadata": {
        "id": "BTGYY5nhQPDc"
      },
      "source": [
        "\r\n",
        "def knn(k):  \r\n",
        "  y_predict = []\r\n",
        "  for test_point in X_test:\r\n",
        "    # Tính khoảng cách từ điểm đang xét đến tất cả các điểm trong tập train, và nhãn của các điểm đó\r\n",
        "    distances = [[distance(test_point, train_point), y_train[i]] for i,train_point in enumerate(X_train)]\r\n",
        "\r\n",
        "    sorted_distances = sorted(distances, key= lambda x: x[0])\r\n",
        "    #print(sorted_distances)\r\n",
        "\r\n",
        "    #Lấy ra nhãn của 5 điểm gần nhất và voting    \r\n",
        "    nearest_k_neighbors = sorted_distances[:k][1]\r\n",
        "    number_of_0 = 0\r\n",
        "    number_of_1 = 0\r\n",
        "    number_of_2 = 0\r\n",
        "    for j in nearest_k_neighbors:\r\n",
        "      if j == 0:\r\n",
        "        number_of_0+=1\r\n",
        "      elif j == 1:\r\n",
        "        number_of_1+=1\r\n",
        "      else:\r\n",
        "        number_of_2+=1\r\n",
        "    most = np.argmax([number_of_0, number_of_1, number_of_2])\r\n",
        "    y_predict.append(most)\r\n",
        "  return y_predict"
      ],
      "execution_count": 80,
      "outputs": []
    },
    {
      "cell_type": "code",
      "metadata": {
        "colab": {
          "base_uri": "https://localhost:8080/"
        },
        "id": "YElpePTzS_d8",
        "outputId": "2df614f1-f179-465d-dce5-70b3c2f21c61"
      },
      "source": [
        "y_predict = knn(10)\r\n",
        "#print(y_predict)"
      ],
      "execution_count": 81,
      "outputs": [
        {
          "output_type": "stream",
          "text": [
            "[1, 0, 2, 1, 1, 0, 1, 2, 1, 1, 2, 0, 0, 0, 0, 1, 2, 1, 1, 2, 0, 2, 0, 2, 2, 2, 2, 2, 0, 0, 0, 0, 1, 0, 0, 2, 1, 0, 0, 0, 2, 1, 1, 0, 0]\n"
          ],
          "name": "stdout"
        }
      ]
    },
    {
      "cell_type": "code",
      "metadata": {
        "colab": {
          "base_uri": "https://localhost:8080/"
        },
        "id": "CQAVJHa7VY1T",
        "outputId": "61a4ac73-346e-4881-a202-cc6308d646df"
      },
      "source": [
        "print(accuracy_score(y_predict, y_test))"
      ],
      "execution_count": 82,
      "outputs": [
        {
          "output_type": "stream",
          "text": [
            "1.0\n"
          ],
          "name": "stdout"
        }
      ]
    },
    {
      "cell_type": "code",
      "metadata": {
        "id": "eHo5iPLyY7XB"
      },
      "source": [
        ""
      ],
      "execution_count": 68,
      "outputs": []
    }
  ]
}