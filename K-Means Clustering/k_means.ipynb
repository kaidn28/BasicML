{
  "nbformat": 4,
  "nbformat_minor": 0,
  "metadata": {
    "colab": {
      "name": "k-means.ipynb",
      "provenance": [],
      "collapsed_sections": []
    },
    "kernelspec": {
      "name": "python3",
      "display_name": "Python 3"
    }
  },
  "cells": [
    {
      "cell_type": "code",
      "metadata": {
        "id": "4_KWUDsXSVTO"
      },
      "source": [
        "import numpy as np\r\n",
        "import sklearn\r\n",
        "from sklearn.datasets import load_iris\r\n",
        "from sklearn.model_selection import train_test_split\r\n",
        "import matplotlib.pyplot as plt "
      ],
      "execution_count": 498,
      "outputs": []
    },
    {
      "cell_type": "code",
      "metadata": {
        "colab": {
          "base_uri": "https://localhost:8080/"
        },
        "id": "djPX8UuhUsdx",
        "outputId": "6be6220f-58b9-4e08-c2ec-6558e7122d48"
      },
      "source": [
        "dataset = load_iris()\r\n",
        "dataset.keys()"
      ],
      "execution_count": 499,
      "outputs": [
        {
          "output_type": "execute_result",
          "data": {
            "text/plain": [
              "dict_keys(['data', 'target', 'target_names', 'DESCR', 'feature_names', 'filename'])"
            ]
          },
          "metadata": {
            "tags": []
          },
          "execution_count": 499
        }
      ]
    },
    {
      "cell_type": "code",
      "metadata": {
        "id": "REvvyXtdViV4"
      },
      "source": [
        "data = dataset.data\r\n",
        "target = dataset.target\r\n",
        "X_train, X_test, y_train, y_test = train_test_split(data, target, test_size= 0.33, random_state = 42)"
      ],
      "execution_count": 500,
      "outputs": []
    },
    {
      "cell_type": "code",
      "metadata": {
        "id": "34l-oPPOaF8-"
      },
      "source": [
        "#hàm tính khoảng cách giữa 2 điểm trong tập dữ liệu\r\n",
        "def calDistance(p1, p2):\r\n",
        "  sum = 0\r\n",
        "  #print(p1, p2)\r\n",
        "  assert len(p1) == len(p2)\r\n",
        "  for i in range(len(p1)):\r\n",
        "    sum +=((p1[i] - p2[i])**2)\r\n",
        "  return np.sqrt(sum)"
      ],
      "execution_count": 501,
      "outputs": []
    },
    {
      "cell_type": "code",
      "metadata": {
        "id": "7ilP4wLAXmLG"
      },
      "source": [
        "#khởi tạo các điểm tâm của clusters bằng cách chọn random trong tập dữ liệu gốc \r\n",
        "def initialCenterPoints(datapoints, number_of_clusters):\r\n",
        "  centers = []\r\n",
        "  for i in range(number_of_clusters):\r\n",
        "    index = np.random.randint(datapoints.shape[0])\r\n",
        "    centers.append(datapoints[index, :])\r\n",
        "  return np.array(centers)"
      ],
      "execution_count": 502,
      "outputs": []
    },
    {
      "cell_type": "code",
      "metadata": {
        "id": "wfr-DpoDXmIG"
      },
      "source": [
        "#phân loại các điểm vào các cụm dựa vào khoảng cách giữa chúng với các center \r\n",
        "def clustering(datapoints, centers):\r\n",
        "  y_pred = np.array([])\r\n",
        "  #print(centers)\r\n",
        "  for n in datapoints:    \r\n",
        "    #print('before')\r\n",
        "    dis_to_centers = [calDistance(n, cen) for cen in centers]\r\n",
        "    #print('after')\r\n",
        "    y_pred = np.append(y_pred, np.array(np.argmin(dis_to_centers)))\r\n",
        "  return y_pred"
      ],
      "execution_count": 503,
      "outputs": []
    },
    {
      "cell_type": "code",
      "metadata": {
        "id": "Q6WQIvzYXl-e"
      },
      "source": [
        "#tìm vị trí center mới dựa trên các điểm vừa dự đoán ở trước\r\n",
        "def findM_clustedPoints(y_pred, m): #Xác định index của các điểm thuộc cluster m trong tập dữ liệu\r\n",
        "  #for i,y in enumerate(y_pred):\r\n",
        "  #  print(y,m)\r\n",
        "  return [i for i, y in enumerate(y_pred) if y == m]\r\n",
        "\r\n",
        "def findNewCenters(datapoints, previousPrediction, number_of_clusters):\r\n",
        "  assert datapoints.shape[0] == len(previousPrediction)\r\n",
        "  new_centers = np.array([[]])\r\n",
        "  for m in range(number_of_clusters):\r\n",
        "    indice_of_points_in_this_cluster = findM_clustedPoints(previousPrediction, m)\r\n",
        "    #print(indice_of_points_in_this_cluster)\r\n",
        "    new_m_center = np.mean(datapoints[indice_of_points_in_this_cluster, :], axis = 0, keepdims= True)\r\n",
        "    #print(new_m_center.shape)\r\n",
        "    new_centers = np.append(new_centers, new_m_center, axis = 1)\r\n",
        "  #print(new_centers.shape)\r\n",
        "  return new_centers.reshape(number_of_clusters,-1)"
      ],
      "execution_count": 504,
      "outputs": []
    },
    {
      "cell_type": "code",
      "metadata": {
        "id": "EjVuS-MzWky4"
      },
      "source": [
        "def kmeans_train(datapoints, labels,number_of_clusters):\r\n",
        "  new_centers = initialCenterPoints(datapoints, number_of_clusters)\r\n",
        "  y_pred = np.zeros(labels.shape)\r\n",
        "  while(True):\r\n",
        "    #print(new_centers)\r\n",
        "    prev_y_pred = y_pred\r\n",
        "    y_pred = clustering(datapoints, new_centers)\r\n",
        "    new_centers = findNewCenters(datapoints, y_pred, number_of_clusters)\r\n",
        "    \r\n",
        "    if calDistance(y_pred, prev_y_pred) == 0:\r\n",
        "      break\r\n",
        "    \r\n",
        "    #print(y_pred)\r\n",
        "    #print(len(y_pred))\r\n",
        "    #print(len(labels))\r\n",
        "    #print(calDistance(y_pred, labels))\r\n",
        "  #print(y_pred)\r\n",
        "  #print(labels)\r\n",
        "  return new_centers"
      ],
      "execution_count": 505,
      "outputs": []
    },
    {
      "cell_type": "code",
      "metadata": {
        "id": "jREo8wAYyp4H"
      },
      "source": [
        "def kmeans_predict(datapoints, centers):\r\n",
        "  y_pred = []\r\n",
        "  for n in datapoints:\r\n",
        "    distances_to_centers = [calDistance(n, cen) for cen in centers]\r\n",
        "    y_pred.append(np.argmin(distances_to_centers))\r\n",
        "  return y_pred"
      ],
      "execution_count": 506,
      "outputs": []
    },
    {
      "cell_type": "code",
      "metadata": {
        "colab": {
          "base_uri": "https://localhost:8080/"
        },
        "id": "L0fjRQ58ZRs2",
        "outputId": "b25acf62-dc6f-4572-cd49-88e9f9c9d5d0"
      },
      "source": [
        "centers = kmeans_train(X_train, y_train, 3)\r\n",
        "prediction = kmeans_predict(X_test, centers)\r\n",
        "print(\"kết quả class dự đoán 10 điểm dữ liệu đầu tiên trên tập test:\")\r\n",
        "print(prediction[:10])\r\n",
        "print(\"nhãn đúng của chúng:\")\r\n",
        "print(y_test[:10])"
      ],
      "execution_count": 507,
      "outputs": [
        {
          "output_type": "stream",
          "text": [
            "kết quả class dự đoán 10 điểm dữ liệu đầu tiên trên tập test:\n",
            "[0, 1, 2, 0, 2, 1, 0, 2, 0, 0]\n",
            "nhãn đúng của chúng:\n",
            "[1 0 2 1 1 0 1 2 1 1]\n"
          ],
          "name": "stdout"
        }
      ]
    },
    {
      "cell_type": "code",
      "metadata": {
        "id": "MjU80hVRZW7O"
      },
      "source": [
        ""
      ],
      "execution_count": 509,
      "outputs": []
    },
    {
      "cell_type": "code",
      "metadata": {
        "id": "3arGWF-b1gfF"
      },
      "source": [
        "#visualize kết quả:\r\n",
        "#bộ dữ liệu iris có số chiều các điểm dữ liệu là 4, ta chỉ visualize 2 chiều dữ liệu đầu tiên để dễ quan sát\r\n",
        "def visualize(datapoints, true_labels, pred_labels, number_of_clusters):\r\n",
        "  def split_clusters(labels):\r\n",
        "    classes = []\r\n",
        "    for i in range(number_of_clusters):\r\n",
        "      classes.append([])\r\n",
        "    for i in range(len(datapoints)):\r\n",
        "      classes[labels[i]].append(datapoints[i])\r\n",
        "\r\n",
        "    #print(classes)\r\n",
        "    return classes\r\n",
        "  splited_classes = split_clusters(true_labels)\r\n",
        "  pred_classes = split_clusters(pred_labels)\r\n",
        "\r\n",
        "  fig, ax = plt.subplots(2, sharex= True, sharey=True)\r\n",
        "  for i,class_points in enumerate(splited_classes):\r\n",
        "    #print(i, class_points)\r\n",
        "    x = [p[0] for p in class_points]\r\n",
        "    y = [p[1] for p in class_points]\r\n",
        "    ax[0].scatter(x,y, c=np.random.rand(3,))\r\n",
        "\r\n",
        "  for i,class_points in enumerate(pred_classes):\r\n",
        "    #print(i, class_points)\r\n",
        "    x = [p[0] for p in class_points]\r\n",
        "    y = [p[1] for p in class_points]\r\n",
        "    ax[1].scatter(x,y, c=np.random.rand(3,))\r\n",
        "  plt.show()"
      ],
      "execution_count": 552,
      "outputs": []
    },
    {
      "cell_type": "code",
      "metadata": {
        "colab": {
          "base_uri": "https://localhost:8080/",
          "height": 394
        },
        "id": "OPIAyH6j1wCE",
        "outputId": "8d12e67a-beb5-4d5b-e6bd-56faf7272c90"
      },
      "source": [
        "visualize(X_test, y_test, prediction,3)"
      ],
      "execution_count": 553,
      "outputs": [
        {
          "output_type": "stream",
          "text": [
            "*c* argument looks like a single numeric RGB or RGBA sequence, which should be avoided as value-mapping will have precedence in case its length matches with *x* & *y*.  Please use the *color* keyword-argument or provide a 2-D array with a single row if you intend to specify the same RGB or RGBA value for all points.\n",
            "*c* argument looks like a single numeric RGB or RGBA sequence, which should be avoided as value-mapping will have precedence in case its length matches with *x* & *y*.  Please use the *color* keyword-argument or provide a 2-D array with a single row if you intend to specify the same RGB or RGBA value for all points.\n",
            "*c* argument looks like a single numeric RGB or RGBA sequence, which should be avoided as value-mapping will have precedence in case its length matches with *x* & *y*.  Please use the *color* keyword-argument or provide a 2-D array with a single row if you intend to specify the same RGB or RGBA value for all points.\n",
            "*c* argument looks like a single numeric RGB or RGBA sequence, which should be avoided as value-mapping will have precedence in case its length matches with *x* & *y*.  Please use the *color* keyword-argument or provide a 2-D array with a single row if you intend to specify the same RGB or RGBA value for all points.\n",
            "*c* argument looks like a single numeric RGB or RGBA sequence, which should be avoided as value-mapping will have precedence in case its length matches with *x* & *y*.  Please use the *color* keyword-argument or provide a 2-D array with a single row if you intend to specify the same RGB or RGBA value for all points.\n",
            "*c* argument looks like a single numeric RGB or RGBA sequence, which should be avoided as value-mapping will have precedence in case its length matches with *x* & *y*.  Please use the *color* keyword-argument or provide a 2-D array with a single row if you intend to specify the same RGB or RGBA value for all points.\n"
          ],
          "name": "stderr"
        },
        {
          "output_type": "display_data",
          "data": {
            "image/png": "[encoded data removed]",
            "text/plain": [
              "<Figure size 432x288 with 2 Axes>"
            ]
          },
          "metadata": {
            "tags": [],
            "needs_background": "light"
          }
        }
      ]
    }
  ]
}